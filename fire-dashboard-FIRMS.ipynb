{
 "cells": [
  {
   "cell_type": "code",
   "execution_count": 1,
   "id": "21b8aba2",
   "metadata": {},
   "outputs": [],
   "source": [
    "import pandas as pd\n",
    "import requests"
   ]
  },
  {
   "cell_type": "code",
   "execution_count": 2,
   "id": "fc6dadb9",
   "metadata": {},
   "outputs": [],
   "source": [
    "import matplotlib.pyplot as plt\n",
    "import plotly.express as px"
   ]
  },
  {
   "cell_type": "code",
   "execution_count": 3,
   "id": "3e8a5a4c",
   "metadata": {},
   "outputs": [],
   "source": [
    "import os\n",
    "from dotenv import load_dotenv, find_dotenv\n",
    "\n",
    "_ = load_dotenv(find_dotenv())"
   ]
  },
  {
   "cell_type": "code",
   "execution_count": 4,
   "id": "0a709d3f",
   "metadata": {},
   "outputs": [],
   "source": [
    "api_key = os.getenv(\"firms_api_key\")\n",
    "base_url = \"https://firms.modaps.eosdis.nasa.gov/api/country/csv\"\n",
    "country = \"MEX\"\n",
    "dataset = \"VIIRS_NOAA20_NRT\" # \n",
    "date_range = \"1\"\n",
    "date = \"2023-06-21\"\n",
    "\n",
    "url = f\"{base_url}/{api_key}/{dataset}/{country}/{date_range}/{date}\""
   ]
  },
  {
   "cell_type": "code",
   "execution_count": 5,
   "id": "36b45079",
   "metadata": {},
   "outputs": [],
   "source": [
    "response = requests.get(url=url)"
   ]
  },
  {
   "cell_type": "code",
   "execution_count": 6,
   "id": "b0aa1a9a",
   "metadata": {
    "scrolled": true
   },
   "outputs": [
    {
     "data": {
      "text/html": [
       "<div>\n",
       "<style scoped>\n",
       "    .dataframe tbody tr th:only-of-type {\n",
       "        vertical-align: middle;\n",
       "    }\n",
       "\n",
       "    .dataframe tbody tr th {\n",
       "        vertical-align: top;\n",
       "    }\n",
       "\n",
       "    .dataframe thead th {\n",
       "        text-align: right;\n",
       "    }\n",
       "</style>\n",
       "<table border=\"1\" class=\"dataframe\">\n",
       "  <thead>\n",
       "    <tr style=\"text-align: right;\">\n",
       "      <th></th>\n",
       "      <th>country_id</th>\n",
       "      <th>latitude</th>\n",
       "      <th>longitude</th>\n",
       "      <th>bright_ti4</th>\n",
       "      <th>scan</th>\n",
       "      <th>track</th>\n",
       "      <th>acq_date</th>\n",
       "      <th>acq_time</th>\n",
       "      <th>satellite</th>\n",
       "      <th>instrument</th>\n",
       "      <th>confidence</th>\n",
       "      <th>version</th>\n",
       "      <th>bright_ti5</th>\n",
       "      <th>frp</th>\n",
       "      <th>daynight</th>\n",
       "    </tr>\n",
       "  </thead>\n",
       "  <tbody>\n",
       "    <tr>\n",
       "      <th>0</th>\n",
       "      <td>MEX</td>\n",
       "      <td>16.80412</td>\n",
       "      <td>-95.06581</td>\n",
       "      <td>299.74</td>\n",
       "      <td>0.47</td>\n",
       "      <td>0.48</td>\n",
       "      <td>2023-06-21</td>\n",
       "      <td>729</td>\n",
       "      <td>1</td>\n",
       "      <td>VIIRS</td>\n",
       "      <td>n</td>\n",
       "      <td>2.0NRT</td>\n",
       "      <td>277.06</td>\n",
       "      <td>0.88</td>\n",
       "      <td>N</td>\n",
       "    </tr>\n",
       "    <tr>\n",
       "      <th>1</th>\n",
       "      <td>MEX</td>\n",
       "      <td>16.83965</td>\n",
       "      <td>-94.01623</td>\n",
       "      <td>297.08</td>\n",
       "      <td>0.41</td>\n",
       "      <td>0.45</td>\n",
       "      <td>2023-06-21</td>\n",
       "      <td>729</td>\n",
       "      <td>1</td>\n",
       "      <td>VIIRS</td>\n",
       "      <td>n</td>\n",
       "      <td>2.0NRT</td>\n",
       "      <td>281.88</td>\n",
       "      <td>0.77</td>\n",
       "      <td>N</td>\n",
       "    </tr>\n",
       "    <tr>\n",
       "      <th>2</th>\n",
       "      <td>MEX</td>\n",
       "      <td>16.84012</td>\n",
       "      <td>-94.01987</td>\n",
       "      <td>297.69</td>\n",
       "      <td>0.41</td>\n",
       "      <td>0.45</td>\n",
       "      <td>2023-06-21</td>\n",
       "      <td>729</td>\n",
       "      <td>1</td>\n",
       "      <td>VIIRS</td>\n",
       "      <td>n</td>\n",
       "      <td>2.0NRT</td>\n",
       "      <td>282.07</td>\n",
       "      <td>0.77</td>\n",
       "      <td>N</td>\n",
       "    </tr>\n",
       "    <tr>\n",
       "      <th>3</th>\n",
       "      <td>MEX</td>\n",
       "      <td>16.88658</td>\n",
       "      <td>-95.41840</td>\n",
       "      <td>298.54</td>\n",
       "      <td>0.50</td>\n",
       "      <td>0.49</td>\n",
       "      <td>2023-06-21</td>\n",
       "      <td>729</td>\n",
       "      <td>1</td>\n",
       "      <td>VIIRS</td>\n",
       "      <td>n</td>\n",
       "      <td>2.0NRT</td>\n",
       "      <td>276.77</td>\n",
       "      <td>1.18</td>\n",
       "      <td>N</td>\n",
       "    </tr>\n",
       "    <tr>\n",
       "      <th>4</th>\n",
       "      <td>MEX</td>\n",
       "      <td>16.88920</td>\n",
       "      <td>-95.41982</td>\n",
       "      <td>301.45</td>\n",
       "      <td>0.50</td>\n",
       "      <td>0.49</td>\n",
       "      <td>2023-06-21</td>\n",
       "      <td>729</td>\n",
       "      <td>1</td>\n",
       "      <td>VIIRS</td>\n",
       "      <td>n</td>\n",
       "      <td>2.0NRT</td>\n",
       "      <td>277.55</td>\n",
       "      <td>1.21</td>\n",
       "      <td>N</td>\n",
       "    </tr>\n",
       "  </tbody>\n",
       "</table>\n",
       "</div>"
      ],
      "text/plain": [
       "  country_id  latitude  longitude  bright_ti4  scan  track    acq_date  \\\n",
       "0        MEX  16.80412  -95.06581      299.74  0.47   0.48  2023-06-21   \n",
       "1        MEX  16.83965  -94.01623      297.08  0.41   0.45  2023-06-21   \n",
       "2        MEX  16.84012  -94.01987      297.69  0.41   0.45  2023-06-21   \n",
       "3        MEX  16.88658  -95.41840      298.54  0.50   0.49  2023-06-21   \n",
       "4        MEX  16.88920  -95.41982      301.45  0.50   0.49  2023-06-21   \n",
       "\n",
       "   acq_time  satellite instrument confidence version  bright_ti5   frp  \\\n",
       "0       729          1      VIIRS          n  2.0NRT      277.06  0.88   \n",
       "1       729          1      VIIRS          n  2.0NRT      281.88  0.77   \n",
       "2       729          1      VIIRS          n  2.0NRT      282.07  0.77   \n",
       "3       729          1      VIIRS          n  2.0NRT      276.77  1.18   \n",
       "4       729          1      VIIRS          n  2.0NRT      277.55  1.21   \n",
       "\n",
       "  daynight  \n",
       "0        N  \n",
       "1        N  \n",
       "2        N  \n",
       "3        N  \n",
       "4        N  "
      ]
     },
     "execution_count": 6,
     "metadata": {},
     "output_type": "execute_result"
    }
   ],
   "source": [
    "df = pd.read_csv(url)\n",
    "df.head()"
   ]
  },
  {
   "cell_type": "code",
   "execution_count": 14,
   "id": "cb0fb890",
   "metadata": {
    "scrolled": true
   },
   "outputs": [],
   "source": [
    "from dash import Input, Output, dcc, html\n",
    "from jupyter_dash import JupyterDash"
   ]
  },
  {
   "cell_type": "code",
   "execution_count": 21,
   "id": "aa59c7fe",
   "metadata": {
    "scrolled": false
   },
   "outputs": [
    {
     "name": "stdout",
     "output_type": "stream",
     "text": [
      "Dash is running on http://127.0.0.1:8050/\n",
      "\n"
     ]
    },
    {
     "data": {
      "text/html": [
       "\n",
       "        <iframe\n",
       "            width=\"100%\"\n",
       "            height=\"650\"\n",
       "            src=\"http://127.0.0.1:8050/\"\n",
       "            frameborder=\"0\"\n",
       "            allowfullscreen\n",
       "            \n",
       "        ></iframe>\n",
       "        "
      ],
      "text/plain": [
       "<IPython.lib.display.IFrame at 0x7f9ab024a100>"
      ]
     },
     "metadata": {},
     "output_type": "display_data"
    }
   ],
   "source": [
    "import pandas as pd\n",
    "import plotly.express as px\n",
    "import dash\n",
    "import dash_core_components as dcc\n",
    "import dash_html_components as html\n",
    "from jupyter_dash import JupyterDash\n",
    "\n",
    "# Create JupyterDash application\n",
    "app = JupyterDash(__name__)\n",
    "\n",
    "# Create scatter map figure\n",
    "fig = px.scatter_mapbox(\n",
    "    df,\n",
    "    lat=\"latitude\",\n",
    "    lon=\"longitude\",\n",
    "    color=\"frp\",\n",
    "    center={\"lat\": 19.43, \"lon\": -99.13},\n",
    "    width=600,\n",
    "    height=600,\n",
    "    hover_data=[\"acq_date\"]\n",
    ")\n",
    "\n",
    "fig.layout.coloraxis.colorbar.title = \"FRP\"\n",
    "fig.update_layout(mapbox_style=\"stamen-terrain\")\n",
    "\n",
    "# Define dropdown options\n",
    "dropdown_options = [\n",
    "    {\"label\": \"Country\", \"value\": \"Fire detection hotspots based on country\"},\n",
    "    {\"label\": \"Option 2\", \"value\": \"option2\"},\n",
    "    {\"label\": \"Option 3\", \"value\": \"option3\"}\n",
    "]\n",
    "\n",
    "# Define the layout of the app\n",
    "app.layout = html.Div([\n",
    "    html.H1(\"Interactive Fire Map Dashboard\"),\n",
    "    dcc.Dropdown(\n",
    "        id=\"dropdown\",\n",
    "        options=dropdown_options,\n",
    "        value=\"Fire detection hotspots based on country\"\n",
    "    ),\n",
    "    html.Div([\n",
    "        dcc.Graph(figure=fig, id='map')\n",
    "    ])\n",
    "])\n",
    "\n",
    "# Define callback function\n",
    "@app.callback(\n",
    "    dash.dependencies.Output(\"map\", \"figure\"),\n",
    "    dash.dependencies.Input(\"dropdown\", \"value\")\n",
    ")\n",
    "def update_map(selected_option):\n",
    "    \n",
    "    fig.update_layout(\n",
    "        title=f\"Selected Option: {selected_option}\"\n",
    "    )\n",
    "    return fig\n",
    "\n",
    "# Run the app\n",
    "if __name__ == \"__main__\":\n",
    "    app.run_server(mode=\"inline\")"
   ]
  }
 ],
 "metadata": {
  "kernelspec": {
   "display_name": "Python 3 (ipykernel)",
   "language": "python",
   "name": "python3"
  },
  "language_info": {
   "codemirror_mode": {
    "name": "ipython",
    "version": 3
   },
   "file_extension": ".py",
   "mimetype": "text/x-python",
   "name": "python",
   "nbconvert_exporter": "python",
   "pygments_lexer": "ipython3",
   "version": "3.9.7"
  }
 },
 "nbformat": 4,
 "nbformat_minor": 5
}
